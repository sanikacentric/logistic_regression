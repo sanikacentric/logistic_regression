{
  "nbformat": 4,
  "nbformat_minor": 0,
  "metadata": {
    "colab": {
      "provenance": []
    },
    "kernelspec": {
      "name": "python3",
      "display_name": "Python 3"
    },
    "language_info": {
      "name": "python"
    }
  },
  "cells": [
    {
      "cell_type": "code",
      "execution_count": null,
      "metadata": {
        "id": "cD44d4d5KuUG"
      },
      "outputs": [],
      "source": [
        "# Install scikit-learn if not installed\n",
        "# pip install scikit-learn\n",
        "\n",
        "from sklearn.linear_model import LogisticRegression\n",
        "from sklearn.model_selection import train_test_split\n",
        "from sklearn.metrics import accuracy_score\n",
        "\n",
        "# Sample data\n",
        "# Let's say we want to predict if someone buys a product based on their age and income\n",
        "# X = [[Age, Income]]\n",
        "X = [\n",
        "    [22, 15000],\n",
        "    [25, 18000],\n",
        "    [47, 25000],\n",
        "    [52, 30000],\n",
        "    [46, 28000],\n",
        "    [56, 32000],\n",
        "    [48, 34000],\n",
        "    [55, 36000]\n",
        "]\n",
        "\n",
        "# Labels: 0 = Did not buy, 1 = Bought\n",
        "y = [0, 0, 1, 1, 1, 1, 1, 1]\n",
        "\n",
        "# Split data into training and testing sets (optional but good practice)\n",
        "X_train, X_test, y_train, y_test = train_test_split(X, y, test_size=0.25, random_state=42)\n",
        "\n",
        "# Create the model\n",
        "model = LogisticRegression()\n",
        "\n",
        "# Train the model\n",
        "model.fit(X_train, y_train)\n",
        "\n",
        "# Make predictions\n",
        "y_pred = model.predict(X_test)\n",
        "\n",
        "# Check accuracy\n",
        "print(\"Predictions:\", y_pred)\n",
        "print(\"Accuracy:\", accuracy_score(y_test, y_pred))\n",
        "\n",
        "# Predict for new data\n",
        "new_person = [[30, 20000]]\n",
        "prediction = model.predict(new_person)\n",
        "probability = model.predict_proba(new_person)\n",
        "\n",
        "print(\"Will the person buy? (1=Yes, 0=No):\", prediction[0])\n",
        "print(\"Probability of buying:\", probability[0][1])\n"
      ]
    },
    {
      "cell_type": "markdown",
      "source": [
        "X is your input data: Age and Income.\n",
        "\n",
        "y is your target: whether they bought or not.\n",
        "\n",
        "We train the model with fit().\n",
        "\n",
        "We predict new outcomes with predict().\n",
        "\n",
        "We get probabilities with predict_proba()."
      ],
      "metadata": {
        "id": "FQ7KehnTK5yj"
      }
    },
    {
      "cell_type": "code",
      "source": [
        "##output\n",
        "#Predictions: [1 1]\n",
        "#Accuracy: 1.0\n",
        "#Will the person buy? (1=Yes, 0=No): 0\n",
        "#Probability of buying: 0.421\n"
      ],
      "metadata": {
        "id": "ZznX_0TfK7KS"
      },
      "execution_count": null,
      "outputs": []
    },
    {
      "cell_type": "markdown",
      "source": [
        "Another Example"
      ],
      "metadata": {
        "id": "cW_B34eFfVCi"
      }
    },
    {
      "cell_type": "code",
      "source": [
        "# Install scikit-learn if you don't have it:\n",
        "# pip install scikit-learn\n",
        "\n",
        "from sklearn.linear_model import LogisticRegression\n",
        "from sklearn.model_selection import train_test_split\n",
        "from sklearn.metrics import accuracy_score, classification_report\n",
        "\n",
        "# Sample dataset: Predict whether a student passes based on study hours\n",
        "# Input feature: [hours studied]\n",
        "X = [\n",
        "    [1], [2], [3], [4], [5], [6], [7], [8], [9], [10]\n",
        "]\n",
        "\n",
        "# Output labels: 0 = Fail, 1 = Pass\n",
        "y = [\n",
        "    0, 0, 0, 0, 1, 1, 1, 1, 1, 1\n",
        "]\n",
        "\n",
        "# Split into training and testing data\n",
        "X_train, X_test, y_train, y_test = train_test_split(X, y, test_size=0.3, random_state=42)\n",
        "\n",
        "# Create Logistic Regression model\n",
        "model = LogisticRegression()\n",
        "\n",
        "# Train the model\n",
        "model.fit(X_train, y_train)\n",
        "\n",
        "# Make predictions on test set\n",
        "y_pred = model.predict(X_test)\n",
        "\n",
        "# Evaluate model performance\n",
        "print(\"Test Set Predictions:\", y_pred)\n",
        "print(\"Accuracy:\", accuracy_score(y_test, y_pred))\n",
        "print(\"Classification Report:\\n\", classification_report(y_test, y_pred))\n",
        "\n",
        "# Predict for a new student who studied 3.5 hours\n",
        "new_data = [[3.5]]\n",
        "predicted_class = model.predict(new_data)\n",
        "predicted_probability = model.predict_proba(new_data)\n",
        "\n",
        "print(\"\\nNew student who studied 3.5 hours:\")\n",
        "print(\"Predicted Class (0=Fail, 1=Pass):\", predicted_class[0])\n",
        "print(\"Predicted Probability of Pass:\", predicted_probability[0][1])\n"
      ],
      "metadata": {
        "id": "6J2-XTXLfWyj"
      },
      "execution_count": null,
      "outputs": []
    },
    {
      "cell_type": "code",
      "source": [
        "##output\n",
        "\n",
        "Test Set Predictions: [1 1 1]\n",
        "Accuracy: 1.0\n",
        "Classification Report:\n",
        "              precision    recall  f1-score   support\n",
        "\n",
        "           0       1.00      1.00      1.00         1\n",
        "           1       1.00      1.00      1.00         2\n",
        "\n",
        "    accuracy                           1.00         3\n",
        "   macro avg       1.00      1.00      1.00         3\n",
        "weighted avg       1.00      1.00      1.00         3\n",
        "\n",
        "New student who studied 3.5 hours:\n",
        "Predicted Class (0=Fail, 1=Pass): 0\n",
        "Predicted Probability of Pass: 0.458\n"
      ],
      "metadata": {
        "id": "LpDLu86Gfe26"
      },
      "execution_count": null,
      "outputs": []
    },
    {
      "cell_type": "markdown",
      "source": [
        "Explanation of Output\n",
        "The model correctly classified all the test data with 100% accuracy (small dataset).\n",
        "\n",
        "For a student who studied 3.5 hours, the model predicts class 0 (Fail), with a 45.8% probability of passing.\n",
        "\n",
        "This makes sense because 3.5 is near the decision boundary (probably around 4-5 hours in this case)."
      ],
      "metadata": {
        "id": "6rqShP9jflZR"
      }
    },
    {
      "cell_type": "markdown",
      "source": [],
      "metadata": {
        "id": "tirdDQdmfcBA"
      }
    }
  ]
}